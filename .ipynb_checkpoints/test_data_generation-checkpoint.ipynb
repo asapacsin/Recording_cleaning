{
 "cells": [
  {
   "cell_type": "code",
   "execution_count": 29,
   "id": "29211c76-035a-4302-83a5-6b5c6699c4b7",
   "metadata": {},
   "outputs": [],
   "source": [
    "import os"
   ]
  },
  {
   "cell_type": "code",
   "execution_count": 30,
   "id": "0e6ad52e-e8ff-481c-8db4-2847a4d4fe28",
   "metadata": {},
   "outputs": [],
   "source": [
    "root_path = 'recording_files'"
   ]
  },
  {
   "cell_type": "code",
   "execution_count": 31,
   "id": "055e52a5-6323-4a0e-a346-2afeffee3329",
   "metadata": {},
   "outputs": [
    {
     "ename": "FileExistsError",
     "evalue": "[Errno 17] File exists: 'recording_files\\\\something2024-04-01something'",
     "output_type": "error",
     "traceback": [
      "\u001b[1;31m---------------------------------------------------------------------------\u001b[0m",
      "\u001b[1;31mFileExistsError\u001b[0m                           Traceback (most recent call last)",
      "Cell \u001b[1;32mIn[31], line 6\u001b[0m\n\u001b[0;32m      4\u001b[0m \u001b[38;5;28;01mfor\u001b[39;00m k \u001b[38;5;129;01min\u001b[39;00m \u001b[38;5;28mrange\u001b[39m(\u001b[38;5;241m1\u001b[39m,\u001b[38;5;241m10\u001b[39m):\n\u001b[0;32m      5\u001b[0m     text \u001b[38;5;241m=\u001b[39m text_base \u001b[38;5;241m+\u001b[39m \u001b[38;5;124m'\u001b[39m\u001b[38;5;124m-0\u001b[39m\u001b[38;5;124m'\u001b[39m \u001b[38;5;241m+\u001b[39m \u001b[38;5;28mstr\u001b[39m(k)\u001b[38;5;241m+\u001b[39m\u001b[38;5;124m'\u001b[39m\u001b[38;5;124msomething\u001b[39m\u001b[38;5;124m'\u001b[39m\n\u001b[1;32m----> 6\u001b[0m     f \u001b[38;5;241m=\u001b[39m \u001b[38;5;28mopen\u001b[39m(os\u001b[38;5;241m.\u001b[39mpath\u001b[38;5;241m.\u001b[39mjoin(root_path,text),\u001b[38;5;124m'\u001b[39m\u001b[38;5;124mx\u001b[39m\u001b[38;5;124m'\u001b[39m)\n\u001b[0;32m      7\u001b[0m     f\u001b[38;5;241m.\u001b[39mclose()\n\u001b[0;32m      8\u001b[0m \u001b[38;5;28;01mfor\u001b[39;00m k \u001b[38;5;129;01min\u001b[39;00m \u001b[38;5;28mrange\u001b[39m(\u001b[38;5;241m10\u001b[39m,\u001b[38;5;241m31\u001b[39m):\n",
      "File \u001b[1;32m~\\anaconda3\\Lib\\site-packages\\IPython\\core\\interactiveshell.py:310\u001b[0m, in \u001b[0;36m_modified_open\u001b[1;34m(file, *args, **kwargs)\u001b[0m\n\u001b[0;32m    303\u001b[0m \u001b[38;5;28;01mif\u001b[39;00m file \u001b[38;5;129;01min\u001b[39;00m {\u001b[38;5;241m0\u001b[39m, \u001b[38;5;241m1\u001b[39m, \u001b[38;5;241m2\u001b[39m}:\n\u001b[0;32m    304\u001b[0m     \u001b[38;5;28;01mraise\u001b[39;00m \u001b[38;5;167;01mValueError\u001b[39;00m(\n\u001b[0;32m    305\u001b[0m         \u001b[38;5;124mf\u001b[39m\u001b[38;5;124m\"\u001b[39m\u001b[38;5;124mIPython won\u001b[39m\u001b[38;5;124m'\u001b[39m\u001b[38;5;124mt let you open fd=\u001b[39m\u001b[38;5;132;01m{\u001b[39;00mfile\u001b[38;5;132;01m}\u001b[39;00m\u001b[38;5;124m by default \u001b[39m\u001b[38;5;124m\"\u001b[39m\n\u001b[0;32m    306\u001b[0m         \u001b[38;5;124m\"\u001b[39m\u001b[38;5;124mas it is likely to crash IPython. If you know what you are doing, \u001b[39m\u001b[38;5;124m\"\u001b[39m\n\u001b[0;32m    307\u001b[0m         \u001b[38;5;124m\"\u001b[39m\u001b[38;5;124myou can use builtins\u001b[39m\u001b[38;5;124m'\u001b[39m\u001b[38;5;124m open.\u001b[39m\u001b[38;5;124m\"\u001b[39m\n\u001b[0;32m    308\u001b[0m     )\n\u001b[1;32m--> 310\u001b[0m \u001b[38;5;28;01mreturn\u001b[39;00m io_open(file, \u001b[38;5;241m*\u001b[39margs, \u001b[38;5;241m*\u001b[39m\u001b[38;5;241m*\u001b[39mkwargs)\n",
      "\u001b[1;31mFileExistsError\u001b[0m: [Errno 17] File exists: 'recording_files\\\\something2024-04-01something'"
     ]
    }
   ],
   "source": [
    "for i in range(100):\n",
    "    for j in range (1,10):\n",
    "        text_base = 'something20'+str(i)+'-0'+str(j)\n",
    "        for k in range(1,10):\n",
    "            text = text_base + '-0' + str(k)+'something'\n",
    "            f = open(os.path.join(root_path,text),'w')\n",
    "            f.close()\n",
    "        for k in range(10,31):\n",
    "            text = text_base + '-' + str(k)+'something'\n",
    "            f = open(os.path.join(root_path,text),'w')\n",
    "            f.close()\n",
    "        text_base = 'something20'+str(i)+'-'+str(j)\n",
    "        for k in range(1,10):\n",
    "            text = text_base + '-0' + str(k)+'something'\n",
    "            f = open(os.path.join(root_path,text),'w')\n",
    "            f.close()\n",
    "        for k in range(10,31):\n",
    "            text = text_base + '-'+str(k)+'something'\n",
    "            f = open(os.path.join(root_path,text),'w')\n",
    "            f.close()\n",
    "    for j in range(10,13):\n",
    "        text_base = 'something20'+str(i)+'-'+str(j)\n",
    "        for k in range(1,10):\n",
    "            text = text_base + '-0' + str(k)+'something'\n",
    "            f = open(os.path.join(root_path,text),'w')\n",
    "            f.close()\n",
    "        for k in range(10,31):\n",
    "            text = text_base + '-'+str(k)+'something'\n",
    "            f = open(os.path.join(root_path,text),'w')\n",
    "            f.close()\n"
   ]
  },
  {
   "cell_type": "code",
   "execution_count": null,
   "id": "771dc1d4-7bdb-4679-9719-2a2e8cfe2d5d",
   "metadata": {},
   "outputs": [],
   "source": [
    "import re"
   ]
  },
  {
   "cell_type": "code",
   "execution_count": null,
   "id": "5083a63c-3372-42eb-832c-4d894b8f2b93",
   "metadata": {},
   "outputs": [],
   "source": [
    "past_match_string = '2024'+'[-_]0?'+'04'\n",
    "cur_match_string = '2024'+'[-_]0?'+'05'"
   ]
  },
  {
   "cell_type": "code",
   "execution_count": null,
   "id": "a875c883-353f-4b77-8183-6f654190380a",
   "metadata": {},
   "outputs": [],
   "source": [
    "rule1 = re.compile(past_match_string)\n",
    "rule2 = re.compile(cur_match_string)"
   ]
  },
  {
   "cell_type": "code",
   "execution_count": null,
   "id": "faeb84c8-29a9-47d9-89cc-6933377fdecb",
   "metadata": {},
   "outputs": [],
   "source": [
    "test_dir = os.scandir(root_path)\n",
    "for file_path in test_dir:\n",
    "    if file_path.is_file():\n",
    "        filename = file_path.name\n",
    "        if rule1.search(filename) or rule2.search(filename):\n",
    "            print(file_path.name)"
   ]
  }
 ],
 "metadata": {
  "kernelspec": {
   "display_name": "Python 3 (ipykernel)",
   "language": "python",
   "name": "python3"
  },
  "language_info": {
   "codemirror_mode": {
    "name": "ipython",
    "version": 3
   },
   "file_extension": ".py",
   "mimetype": "text/x-python",
   "name": "python",
   "nbconvert_exporter": "python",
   "pygments_lexer": "ipython3",
   "version": "3.11.7"
  }
 },
 "nbformat": 4,
 "nbformat_minor": 5
}
