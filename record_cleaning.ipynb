{
 "cells": [
  {
   "cell_type": "code",
   "execution_count": 147,
   "id": "70e1e41c-51d2-4257-bcd0-cebf73f0d15d",
   "metadata": {},
   "outputs": [],
   "source": [
    "import datetime\n",
    "import re\n",
    "import os\n",
    "from datetime import datetime\n",
    "from datetime import date"
   ]
  },
  {
   "cell_type": "code",
   "execution_count": 148,
   "id": "2852e1c1-08bc-4a22-b4cb-25b5c0ec3908",
   "metadata": {},
   "outputs": [
    {
     "name": "stdout",
     "output_type": "stream",
     "text": [
      "\n",
      "    Pick a Choice!\n",
      "    The program ould perserve the data in the past month. Now select the current date.\n",
      "    [1]. Default date by local configuration\n",
      "    [2]. Enter date manually\n",
      "\n",
      "    \n"
     ]
    },
    {
     "name": "stdin",
     "output_type": "stream",
     "text": [
      " 1\n"
     ]
    },
    {
     "name": "stdout",
     "output_type": "stream",
     "text": [
      "The current date is 2024-05-29. Continue? Enter any key to continue or enter b to return\n"
     ]
    },
    {
     "name": "stdin",
     "output_type": "stream",
     "text": [
      " \n"
     ]
    }
   ],
   "source": [
    "#Determine current date\n",
    "while True:\n",
    "    print( \"\"\"\n",
    "    Pick a Choice!\n",
    "    The program would perserve the data in the past month. Now select the current date.\n",
    "    [1]. Default date by local configuration\n",
    "    [2]. Enter date manually\\n\n",
    "    \"\"\")\n",
    "    choice = input()\n",
    "    if choice == '1':\n",
    "        get_date = date.today()\n",
    "    elif choice == '2':\n",
    "        print(\"Please enter date YYYY-MM-DD \")\n",
    "        tmp_date = input()\n",
    "        try:\n",
    "            get_date = datetime.strptime(tmp_date, '%Y-%m-%d').date() \n",
    "        except:\n",
    "            print(\"Invalid input. Please try again\")\n",
    "            continue\n",
    "    else:\n",
    "        print(choice)\n",
    "        print(\"Invalid choice. Please try again\")\n",
    "        continue\n",
    "    print(f'The current date is {get_date}. Continue? Enter any key to continue or enter b to return')\n",
    "    submit_key = input()\n",
    "    if submit_key != 'b':\n",
    "        break\n",
    "    "
   ]
  },
  {
   "cell_type": "code",
   "execution_count": 149,
   "id": "5e08535f-95e0-4916-b530-09ac5e27ab84",
   "metadata": {},
   "outputs": [],
   "source": [
    "def month_substract(month):\n",
    "    if month == 1:\n",
    "        return [1,12]\n",
    "    else:\n",
    "        return [0,month-1]"
   ]
  },
  {
   "cell_type": "code",
   "execution_count": 150,
   "id": "c77ead2a-df86-4994-8784-64c1bad5c485",
   "metadata": {},
   "outputs": [],
   "source": [
    "#Sample date\n",
    "cur_year = get_date.year\n",
    "cur_month = get_date.month\n",
    "[tmp_year_count,get_month] = month_substract(cur_month)\n",
    "past_year = cur_year - tmp_year_count\n",
    "past_month = get_month"
   ]
  },
  {
   "cell_type": "code",
   "execution_count": 151,
   "id": "e3f0e1c6-f767-4be8-afda-d4feac037810",
   "metadata": {},
   "outputs": [],
   "source": [
    "#initialize rule string\n",
    "past_match_string = str(past_year)+'[-_]0?'+str(past_month)\n",
    "cur_match_string = str(cur_year)+'[-_]0?'+str(cur_month)"
   ]
  },
  {
   "cell_type": "code",
   "execution_count": 152,
   "id": "db330629-2277-498f-90d2-0fd11cf3d064",
   "metadata": {},
   "outputs": [],
   "source": [
    "#initialize rule \n",
    "rule1 = re.compile(past_match_string)\n",
    "rule2 = re.compile(cur_match_string)"
   ]
  },
  {
   "cell_type": "code",
   "execution_count": 159,
   "id": "662d01f6-6400-45ab-a080-e64d1cab3c4a",
   "metadata": {},
   "outputs": [
    {
     "name": "stdout",
     "output_type": "stream",
     "text": [
      "Please enter folder you want to delete files from.\n"
     ]
    },
    {
     "name": "stdin",
     "output_type": "stream",
     "text": [
      " recording_files\n"
     ]
    },
    {
     "name": "stdout",
     "output_type": "stream",
     "text": [
      "The folder you enter is recording_files. Are you sure?\n",
      "Please enter yes to continue. Other key would direct to input again.\n"
     ]
    },
    {
     "name": "stdin",
     "output_type": "stream",
     "text": [
      " yes\n"
     ]
    }
   ],
   "source": [
    "while True:\n",
    "    print(\"Please enter folder you want to delete files from.\")\n",
    "    enter_folder = input()\n",
    "    print(f'The folder you enter is {enter_folder}. Are you sure?\\nPlease enter yes to continue. Other key would direct to input again.')\n",
    "    submit_folder = input()\n",
    "    if submit_folder == 'yes':\n",
    "        break"
   ]
  },
  {
   "cell_type": "code",
   "execution_count": 160,
   "id": "eab2541b-bce2-462b-b21c-6a1627e25a3d",
   "metadata": {},
   "outputs": [],
   "source": [
    "listdir_obj = os.scandir(enter_folder)"
   ]
  },
  {
   "cell_type": "code",
   "execution_count": 161,
   "id": "4e3853b1-912e-498d-a17f-e1e9a44991d4",
   "metadata": {},
   "outputs": [],
   "source": [
    "search_files_count = 0"
   ]
  },
  {
   "cell_type": "code",
   "execution_count": 162,
   "id": "518922fb-df77-4d02-8b67-4341610a2636",
   "metadata": {},
   "outputs": [
    {
     "ename": "PermissionError",
     "evalue": "[WinError 32] 另一个程序正在使用此文件，进程无法访问。: 'recording_files\\\\something2099-12-30something'",
     "output_type": "error",
     "traceback": [
      "\u001b[1;31m---------------------------------------------------------------------------\u001b[0m",
      "\u001b[1;31mPermissionError\u001b[0m                           Traceback (most recent call last)",
      "Cell \u001b[1;32mIn[162], line 10\u001b[0m\n\u001b[0;32m      8\u001b[0m     \u001b[38;5;28;01mpass\u001b[39;00m\n\u001b[0;32m      9\u001b[0m \u001b[38;5;28;01melse\u001b[39;00m:\n\u001b[1;32m---> 10\u001b[0m     os\u001b[38;5;241m.\u001b[39mremove(os\u001b[38;5;241m.\u001b[39mpath\u001b[38;5;241m.\u001b[39mjoin(enter_folder,file))\n\u001b[0;32m     11\u001b[0m search_files_count \u001b[38;5;241m+\u001b[39m\u001b[38;5;241m=\u001b[39m \u001b[38;5;241m1\u001b[39m\n\u001b[0;32m     12\u001b[0m \u001b[38;5;28;01mif\u001b[39;00m search_files_count \u001b[38;5;241m%\u001b[39m\u001b[38;5;241m1000\u001b[39m \u001b[38;5;241m==\u001b[39m\u001b[38;5;241m0\u001b[39m:\n",
      "\u001b[1;31mPermissionError\u001b[0m: [WinError 32] 另一个程序正在使用此文件，进程无法访问。: 'recording_files\\\\something2099-12-30something'"
     ]
    }
   ],
   "source": [
    "for file_path in listdir_obj:\n",
    "    if not file_path.is_file():\n",
    "        continue\n",
    "    file = file_path.name\n",
    "    judge1 = rule1.search(file)\n",
    "    judge2 = rule2.search(file)\n",
    "    if judge1 or judge2:\n",
    "        pass\n",
    "    else:\n",
    "        os.remove(os.path.join(enter_folder,file))\n",
    "    search_files_count += 1\n",
    "    if search_files_count %1000 ==0:\n",
    "        print(f'Processed {search_files_count}files.')\n",
    "    "
   ]
  },
  {
   "cell_type": "code",
   "execution_count": null,
   "id": "147059ec-00a0-4803-b355-68dfebf3fea6",
   "metadata": {},
   "outputs": [],
   "source": []
  }
 ],
 "metadata": {
  "kernelspec": {
   "display_name": "Python 3 (ipykernel)",
   "language": "python",
   "name": "python3"
  },
  "language_info": {
   "codemirror_mode": {
    "name": "ipython",
    "version": 3
   },
   "file_extension": ".py",
   "mimetype": "text/x-python",
   "name": "python",
   "nbconvert_exporter": "python",
   "pygments_lexer": "ipython3",
   "version": "3.11.7"
  }
 },
 "nbformat": 4,
 "nbformat_minor": 5
}
