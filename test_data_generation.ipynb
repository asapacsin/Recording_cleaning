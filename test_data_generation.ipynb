{
 "cells": [
  {
   "cell_type": "code",
   "execution_count": 1,
   "id": "29211c76-035a-4302-83a5-6b5c6699c4b7",
   "metadata": {},
   "outputs": [],
   "source": [
    "import os"
   ]
  },
  {
   "cell_type": "code",
   "execution_count": 2,
   "id": "0e6ad52e-e8ff-481c-8db4-2847a4d4fe28",
   "metadata": {},
   "outputs": [],
   "source": [
    "root_path = 'recording_files'"
   ]
  },
  {
   "cell_type": "code",
   "execution_count": 8,
   "id": "4da46b35-c757-4f95-b500-14b15d4d4aa0",
   "metadata": {},
   "outputs": [],
   "source": [
    "def generate_date_samples_by_seperation_symbol(symbol):\n",
    "    for i in range(100):\n",
    "        for j in range (1,10):\n",
    "            text_base = 'something20'+str(i)+symbol+'0'+str(j)\n",
    "            for k in range(1,10):\n",
    "                text = text_base + symbol+'0' + str(k)+'something'\n",
    "                f = open(os.path.join(root_path,text),'w')\n",
    "                f.close()\n",
    "            for k in range(10,31):\n",
    "                text = text_base + symbol + str(k)+'something'\n",
    "                f = open(os.path.join(root_path,text),'w')\n",
    "                f.close()\n",
    "            text_base = 'something20'+str(i)+symbol+str(j)\n",
    "            for k in range(1,10):\n",
    "                text = text_base + symbol+ '0' + str(k)+'something'\n",
    "                f = open(os.path.join(root_path,text),'w')\n",
    "                f.close()\n",
    "            for k in range(10,31):\n",
    "                text = text_base + symbol+str(k)+'something'\n",
    "                f = open(os.path.join(root_path,text),'w')\n",
    "                f.close()\n",
    "        for j in range(10,13):\n",
    "            text_base = 'something20'+str(i)+symbol+str(j)\n",
    "            for k in range(1,10):\n",
    "                text = text_base+symbol+'0' + str(k)+'something'\n",
    "                f = open(os.path.join(root_path,text),'w')\n",
    "                f.close()\n",
    "            for k in range(10,31):\n",
    "                text = text_base + symbol+str(k)+'something'\n",
    "                f = open(os.path.join(root_path,text),'w')\n",
    "                f.close()"
   ]
  },
  {
   "cell_type": "code",
   "execution_count": 9,
   "id": "055e52a5-6323-4a0e-a346-2afeffee3329",
   "metadata": {},
   "outputs": [],
   "source": [
    "generate_date_samples_by_seperation_symbol('-')\n",
    "generate_date_samples_by_seperation_symbol('_')"
   ]
  },
  {
   "cell_type": "code",
   "execution_count": 35,
   "id": "771dc1d4-7bdb-4679-9719-2a2e8cfe2d5d",
   "metadata": {},
   "outputs": [],
   "source": [
    "import re"
   ]
  },
  {
   "cell_type": "code",
   "execution_count": 36,
   "id": "5083a63c-3372-42eb-832c-4d894b8f2b93",
   "metadata": {},
   "outputs": [],
   "source": [
    "past_match_string = '2024'+'[-_]0?'+'04'\n",
    "cur_match_string = '2024'+'[-_]0?'+'05'"
   ]
  },
  {
   "cell_type": "code",
   "execution_count": 37,
   "id": "a875c883-353f-4b77-8183-6f654190380a",
   "metadata": {},
   "outputs": [],
   "source": [
    "rule1 = re.compile(past_match_string)\n",
    "rule2 = re.compile(cur_match_string)"
   ]
  },
  {
   "cell_type": "code",
   "execution_count": 38,
   "id": "faeb84c8-29a9-47d9-89cc-6933377fdecb",
   "metadata": {},
   "outputs": [
    {
     "name": "stdout",
     "output_type": "stream",
     "text": [
      "something2024-04\n",
      "something2024-04-01something\n",
      "something2024-04-02something\n",
      "something2024-04-03something\n",
      "something2024-04-04something\n",
      "something2024-04-05something\n",
      "something2024-04-06something\n",
      "something2024-04-07something\n",
      "something2024-04-08something\n",
      "something2024-04-09something\n",
      "something2024-04-10something\n",
      "something2024-04-11something\n",
      "something2024-04-12something\n",
      "something2024-04-13something\n",
      "something2024-04-14something\n",
      "something2024-04-15something\n",
      "something2024-04-16something\n",
      "something2024-04-17something\n",
      "something2024-04-18something\n",
      "something2024-04-19something\n",
      "something2024-04-20something\n",
      "something2024-04-21something\n",
      "something2024-04-22something\n",
      "something2024-04-23something\n",
      "something2024-04-24something\n",
      "something2024-04-25something\n",
      "something2024-04-26something\n",
      "something2024-04-27something\n",
      "something2024-04-28something\n",
      "something2024-04-29something\n",
      "something2024-04-30something\n",
      "something2024-04something\n",
      "something2024-05\n",
      "something2024-05-01something\n",
      "something2024-05-02something\n",
      "something2024-05-03something\n",
      "something2024-05-04something\n",
      "something2024-05-05something\n",
      "something2024-05-06something\n",
      "something2024-05-07something\n",
      "something2024-05-08something\n",
      "something2024-05-09something\n",
      "something2024-05-10something\n",
      "something2024-05-11something\n",
      "something2024-05-12something\n",
      "something2024-05-13something\n",
      "something2024-05-14something\n",
      "something2024-05-15something\n",
      "something2024-05-16something\n",
      "something2024-05-17something\n",
      "something2024-05-18something\n",
      "something2024-05-19something\n",
      "something2024-05-20something\n",
      "something2024-05-21something\n",
      "something2024-05-22something\n",
      "something2024-05-23something\n",
      "something2024-05-24something\n",
      "something2024-05-25something\n",
      "something2024-05-26something\n",
      "something2024-05-27something\n",
      "something2024-05-28something\n",
      "something2024-05-29something\n",
      "something2024-05-30something\n",
      "something2024-05something\n"
     ]
    }
   ],
   "source": [
    "test_dir = os.scandir(root_path)\n",
    "for file_path in test_dir:\n",
    "    if file_path.is_file():\n",
    "        filename = file_path.name\n",
    "        if rule1.search(filename) or rule2.search(filename):\n",
    "            print(file_path.name)"
   ]
  }
 ],
 "metadata": {
  "kernelspec": {
   "display_name": "Python 3 (ipykernel)",
   "language": "python",
   "name": "python3"
  },
  "language_info": {
   "codemirror_mode": {
    "name": "ipython",
    "version": 3
   },
   "file_extension": ".py",
   "mimetype": "text/x-python",
   "name": "python",
   "nbconvert_exporter": "python",
   "pygments_lexer": "ipython3",
   "version": "3.11.7"
  }
 },
 "nbformat": 4,
 "nbformat_minor": 5
}
